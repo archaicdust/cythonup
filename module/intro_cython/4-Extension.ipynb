{
 "cells": [
  {
   "cell_type": "markdown",
   "metadata": {},
   "source": [
    "# Extension Types\n",
    "\n",
    "In Python everything is an object, which has the following things:\n",
    "* identity - distinguishes it from all others and is provided by the *id* built-in function.\n",
    "* value - the data associated with it, accessible via dot notation.\n",
    "* type - specifies the behaviors that an object of that type exhibits.\n",
    "\n",
    "A type is responsible for creating and destroying its objects, initializing them, and updating their values when methods are called on the object. Python allows us to create new types with the *class* statement."
   ]
  },
  {
   "cell_type": "markdown",
   "metadata": {},
   "source": [
    "## Class\n",
    "To wrap arbitrary C data structures and provide a Python-like interface for accessing. \n",
    "\n",
    "```cython\n",
    "cdef class Shrubbery:\n",
    "\n",
    "    cdef int width, height\n",
    "\n",
    "    def __init__(self, w, h):\n",
    "        self.width = w\n",
    "        self.height = h\n",
    "\n",
    "    def describe(self):\n",
    "        print \"This shrubbery is\", self.width, \\\n",
    "            \"by\", self.height, \"cubits.\"\n",
    "```"
   ]
  },
  {
   "cell_type": "markdown",
   "metadata": {},
   "source": [
    "## Attriutes\n",
    "Default values are for direct access, to expose via Python access, use the two keywords:\n",
    "* **public** - for read/write.\n",
    "* **readonly** - for read only.\n",
    "\n",
    "```cython\n",
    "cdef class Shrubbery:\n",
    "    cdef public int width, height\n",
    "    cdef readonly float depth\n",
    "```"
   ]
  },
  {
   "cell_type": "markdown",
   "metadata": {},
   "source": [
    "## Properties\n",
    "```cython\n",
    "cdef class Spam:\n",
    "\n",
    "    property cheese:\n",
    "\n",
    "        \"A doc string can go here.\"\n",
    "\n",
    "        def __get__(self):\n",
    "            # This is called when the property is read.\n",
    "            ...\n",
    "\n",
    "        def __set__(self, value):\n",
    "            # This is called when the property is written.\n",
    "            ...\n",
    "\n",
    "        def __del__(self):\n",
    "            # This is called when the property is deleted.\n",
    "```\n",
    "Example: [cheesy.pyx](/edit/extension/cheesy.pyx)"
   ]
  },
  {
   "cell_type": "code",
   "execution_count": 1,
   "metadata": {
    "collapsed": false
   },
   "outputs": [
    {
     "name": "stdout",
     "output_type": "stream",
     "text": [
      "/Users/clsung/git/cythonup/module/intro_cython/extension\n"
     ]
    }
   ],
   "source": [
    "%cd extension\n",
    "%load_ext Cython"
   ]
  },
  {
   "cell_type": "code",
   "execution_count": 2,
   "metadata": {
    "collapsed": false
   },
   "outputs": [
    {
     "name": "stdout",
     "output_type": "stream",
     "text": [
      "We don't have: []\n",
      "We don't have: ['camembert']\n",
      "We don't have: ['camembert', 'cheddar']\n",
      "We don't have: []\n"
     ]
    }
   ],
   "source": [
    "%%cython\n",
    "import pyximport; pyximport.install()\n",
    "from cheesy import CheeseShop\n",
    "\n",
    "shop = CheeseShop()\n",
    "print shop.cheese\n",
    "\n",
    "shop.cheese = \"camembert\"\n",
    "print shop.cheese\n",
    "\n",
    "shop.cheese = \"cheddar\"\n",
    "print shop.cheese\n",
    "\n",
    "del shop.cheese\n",
    "print shop.cheese"
   ]
  },
  {
   "cell_type": "markdown",
   "metadata": {},
   "source": [
    "## Initialization and Finalization\n",
    "```cython\n",
    "cdef class CheeseCake:\n",
    "    cdef:\n",
    "        unsigned int nsize\n",
    "        double *_weight\n",
    "    def __cinit__(self, ns):\n",
    "        self.nsize = ns\n",
    "        self._weight = <double*>malloc(ns * sizeof(double))\n",
    "        if self._weight == NULL:\n",
    "            raise MemoryError()\n",
    "    def __dealloc__(self):\n",
    "        if self._weight != NULL:\n",
    "            free(self._weight)\n",
    "```"
   ]
  },
  {
   "cell_type": "markdown",
   "metadata": {},
   "source": [
    "## Inheritance "
   ]
  },
  {
   "cell_type": "code",
   "execution_count": 3,
   "metadata": {
    "collapsed": false
   },
   "outputs": [
    {
     "name": "stdout",
     "output_type": "stream",
     "text": [
      "p1:\n",
      "This animal is resting.\n",
      "p2:\n",
      "This animal is resting.\n",
      "The dog bites !\n"
     ]
    }
   ],
   "source": [
    "%%cython\n",
    "cdef class Animal:\n",
    "\n",
    "    cdef void describe(self):\n",
    "        print \"This animal is resting.\"\n",
    "\n",
    "\n",
    "cdef class Dog(Animal):\n",
    "\n",
    "    cdef void describe(self):\n",
    "        Animal.describe(self)\n",
    "        print \"The dog bites !\"\n",
    "\n",
    "        \n",
    "cdef Animal p1, p2\n",
    "p1 = Animal()\n",
    "p2 = Dog()\n",
    "print \"p1:\"\n",
    "p1.describe()\n",
    "print \"p2:\"\n",
    "p2.describe()\n"
   ]
  },
  {
   "cell_type": "markdown",
   "metadata": {},
   "source": [
    "## Classes\n",
    "#### class MyClass(object):\n",
    "```\n",
    "* Python class with __dict__\n",
    "* multiple inheritance\n",
    "* arbitrary Python attributes\n",
    "* Python methods\n",
    "```  \n",
    "#### cdef class MyClass(SuperClass):\n",
    "```\n",
    "*\"builtin\" extension type\n",
    "* single inheritance\n",
    "  * only from other extensino types\n",
    "* fixed, typed fields\n",
    "  * C-only access by default, or readonly/public\n",
    "* Python + C methods\n",
    "```"
   ]
  }
 ],
 "metadata": {
  "celltoolbar": "Slideshow",
  "kernelspec": {
   "display_name": "Python 2",
   "language": "python",
   "name": "python2"
  },
  "language_info": {
   "codemirror_mode": {
    "name": "ipython",
    "version": 2
   },
   "file_extension": ".py",
   "mimetype": "text/x-python",
   "name": "python",
   "nbconvert_exporter": "python",
   "pygments_lexer": "ipython2",
   "version": "2.7.10"
  }
 },
 "nbformat": 4,
 "nbformat_minor": 0
}
