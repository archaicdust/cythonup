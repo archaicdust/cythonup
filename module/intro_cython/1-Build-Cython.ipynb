{
 "cells": [
  {
   "cell_type": "markdown",
   "metadata": {},
   "source": [
    "# Building Cython code\n",
    "\n",
    "### Cython code must be compiled before running it.\n",
    "### Requirement: Cython, Python and a C compiler.\n",
    "### Two stages\n",
    "\n",
    "#### Translation from python to C\n",
    "* A **.pyx** file is compiled by Cython to a **.c** file.\n",
    "\n",
    "#### Compilation by C compiler\n",
    "* The **.c** file is compiled by a C compiler to a **.so** file (or a **.pyd** file on Windows) or a binary executable "
   ]
  },
  {
   "cell_type": "markdown",
   "metadata": {},
   "source": [
    "## Command line building"
   ]
  },
  {
   "cell_type": "code",
   "execution_count": 1,
   "metadata": {
    "collapsed": false
   },
   "outputs": [],
   "source": [
    "# Change the working directory to helloworld/\n",
    "%cd -q helloworld\n",
    "!make clean"
   ]
  },
  {
   "cell_type": "markdown",
   "metadata": {},
   "source": [
    "### Share library"
   ]
  },
  {
   "cell_type": "code",
   "execution_count": 2,
   "metadata": {
    "collapsed": false
   },
   "outputs": [],
   "source": [
    "# Make it helloworld.c\n",
    "!cython -a helloworld.pyx"
   ]
  },
  {
   "cell_type": "code",
   "execution_count": 3,
   "metadata": {
    "collapsed": false
   },
   "outputs": [],
   "source": [
    "# Build as a shared library (.so)\n",
    "!gcc -shared -pthread -fPIC -fwrapv -O3 -Wall -fno-strict-aliasing \\\n",
    " -o helloworld.so helloworld.c `python2-config --cflags --ldflags`"
   ]
  },
  {
   "cell_type": "code",
   "execution_count": 4,
   "metadata": {
    "collapsed": false
   },
   "outputs": [
    {
     "name": "stdout",
     "output_type": "stream",
     "text": [
      "Hello World\r\n"
     ]
    }
   ],
   "source": [
    "# Test run\n",
    "!python -c 'import helloworld'\n",
    "# Clean the intermediate files\n",
    "!make clean"
   ]
  },
  {
   "cell_type": "markdown",
   "metadata": {},
   "source": [
    "### Binary executable file with **--embed**"
   ]
  },
  {
   "cell_type": "code",
   "execution_count": 5,
   "metadata": {
    "collapsed": false
   },
   "outputs": [],
   "source": [
    "# Make it helloworld.c\n",
    "!cython --embed -a helloworld.pyx"
   ]
  },
  {
   "cell_type": "code",
   "execution_count": 6,
   "metadata": {
    "collapsed": false
   },
   "outputs": [],
   "source": [
    "# Build as a binary executable file\n",
    "!gcc -O3 -march=native -o helloworld helloworld.c `python2-config --cflags --ldflags`"
   ]
  },
  {
   "cell_type": "code",
   "execution_count": 7,
   "metadata": {
    "collapsed": false
   },
   "outputs": [
    {
     "name": "stdout",
     "output_type": "stream",
     "text": [
      "Hello World\r\n"
     ]
    }
   ],
   "source": [
    "# Test run\n",
    "!./helloworld\n",
    "# Clean intermediate files\n",
    "!make clean"
   ]
  },
  {
   "cell_type": "markdown",
   "metadata": {},
   "source": [
    "### Embedding Cython\n",
    "\n",
    "Typically Cython is used to create extension modules for use from Python programs. It is, however, possible to write a standalone programs in Cython. This is done via embedding the Python interpreter with the **--embed** option.\n",
    "\n",
    "Diff of **without --embed** and **with --embed**:\n",
    "```bash\n",
    "+int\n",
    "+main(int argc, char **argv)\n",
    "+{\n",
    "+    if (!argc) {\n",
    "+        return __Pyx_main(0, NULL);\n",
    "+    }\n",
    "+    else {\n",
    "+        wchar_t **argv_copy = (wchar_t **)malloc(sizeof(wchar_t*)*argc);\n",
    "+        wchar_t **argv_copy2 = (wchar_t **)malloc(sizeof(wchar_t*)*argc);\n",
    "+        int i, res;\n",
    "+        char *oldloc;\n",
    "+        if (!argv_copy || !argv_copy2) {\n",
    "+            fprintf(stderr, \"out of memory\\\\n\");\n",
    "+            return 1;\n",
    "+        }\n",
    "+        oldloc = strdup(setlocale(LC_ALL, NULL));\n",
    "+        setlocale(LC_ALL, \"\");\n",
    "+        for (i = 0; i < argc; i++) {\n",
    "+            argv_copy2[i] = argv_copy[i] = __Pyx_char2wchar(argv[i]);\n",
    "+            if (!argv_copy[i])\n",
    "+                return 1;\n",
    "+        }\n",
    "+        setlocale(LC_ALL, oldloc);\n",
    "+        free(oldloc);\n",
    "+        res = __Pyx_main(argc, argv_copy);\n",
    "+        for (i = 0; i < argc; i++) {\n",
    "+            free(argv_copy2[i]);\n",
    "+        }\n",
    "+        free(argv_copy);\n",
    "+        free(argv_copy2);\n",
    "+        return res;\n",
    "+    }\n",
    "+}\n",
    "```"
   ]
  },
  {
   "cell_type": "markdown",
   "metadata": {},
   "source": [
    "## Compiling with pyximport\n",
    "Aim for simple (trivial) cython build, which means\n",
    "* no extra C/C++ libraries and\n",
    "* no special building setup steps"
   ]
  },
  {
   "cell_type": "code",
   "execution_count": 8,
   "metadata": {
    "collapsed": false
   },
   "outputs": [
    {
     "name": "stdout",
     "output_type": "stream",
     "text": [
      "Hello World\n"
     ]
    }
   ],
   "source": [
    "# Compile helloworld.pyx and import via pyximport\n",
    "import pyximport; pyximport.install()\n",
    "import helloworld"
   ]
  },
  {
   "cell_type": "markdown",
   "metadata": {},
   "source": [
    "It can also build **.py** files"
   ]
  },
  {
   "cell_type": "code",
   "execution_count": 9,
   "metadata": {
    "collapsed": true
   },
   "outputs": [],
   "source": [
    "!rm -f helloworld2.py; echo 'print \"Hello World\"' > helloworld2.py"
   ]
  },
  {
   "cell_type": "code",
   "execution_count": 10,
   "metadata": {
    "collapsed": false
   },
   "outputs": [
    {
     "name": "stdout",
     "output_type": "stream",
     "text": [
      "Hello World\n"
     ]
    }
   ],
   "source": [
    "import pyximport; pyximport.install(pyimport=True)\n",
    "import helloworld2"
   ]
  },
  {
   "cell_type": "markdown",
   "metadata": {},
   "source": [
    "## Compiling with distutils\n",
    "Build with setup.py.\n",
    "[setup.py](/edit/helloworld/setup.py)\n",
    "\n",
    "```python\n",
    "from distutils.core import setup\n",
    "from Cython.Build import cythonize\n",
    "\n",
    "setup(\n",
    "    ext_modules = cythonize(\"helloworld.pyx\")\n",
    ")\n",
    "```"
   ]
  },
  {
   "cell_type": "code",
   "execution_count": 13,
   "metadata": {
    "collapsed": false
   },
   "outputs": [
    {
     "name": "stdout",
     "output_type": "stream",
     "text": [
      "helloworld.so\r\n"
     ]
    }
   ],
   "source": [
    "# build extension --inplace to build the .so \"in place\"\n",
    "!python setup.py -q build_ext --inplace -f; ls helloworld.so"
   ]
  },
  {
   "cell_type": "markdown",
   "metadata": {},
   "source": [
    "To rename the created library, we can use Extension()\n",
    "```python\n",
    "from distutils.core import setup\n",
    "from Cython.Build import cythonize\n",
    "from distutils.extension import Extension\n",
    "\n",
    "extensions = [Extension('helloworld3', ['helloworld.pyx', ])]\n",
    "\n",
    "setup(\n",
    "    ext_modules = cythonize(extensions)\n",
    ")\n",
    "```"
   ]
  },
  {
   "cell_type": "markdown",
   "metadata": {},
   "source": [
    "### Extension\n",
    "For specific compile/link options, libraries to link, we can build up multiple Extension() instance manually.\n",
    "```python\n",
    "from distutils.core import setup\n",
    "from distutils.extension import Extension\n",
    "from Cython.Build import cythonize\n",
    "\n",
    "extensions = [\n",
    "    Extension(\"primes\", [\"primes.pyx\"],\n",
    "        include_dirs = [...],\n",
    "        libraries = [...],\n",
    "        library_dirs = [...]),\n",
    "    # Everything but primes.pyx is included here.\n",
    "    Extension(\"*\", [\"*.pyx\"],\n",
    "        include_dirs = [...],\n",
    "        libraries = [...],\n",
    "        library_dirs = [...]),\n",
    "]\n",
    "setup(\n",
    "    name = \"Finding primes\",\n",
    "    ext_modules = cythonize(extensions),\n",
    ")\n",
    "```"
   ]
  },
  {
   "cell_type": "code",
   "execution_count": null,
   "metadata": {
    "collapsed": true
   },
   "outputs": [],
   "source": []
  }
 ],
 "metadata": {
  "kernelspec": {
   "display_name": "Python 2",
   "language": "python",
   "name": "python2"
  },
  "language_info": {
   "codemirror_mode": {
    "name": "ipython",
    "version": 2
   },
   "file_extension": ".py",
   "mimetype": "text/x-python",
   "name": "python",
   "nbconvert_exporter": "python",
   "pygments_lexer": "ipython2",
   "version": "2.7.9"
  }
 },
 "nbformat": 4,
 "nbformat_minor": 0
}
