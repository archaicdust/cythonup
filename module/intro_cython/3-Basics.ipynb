{
 "cells": [
  {
   "cell_type": "markdown",
   "metadata": {},
   "source": [
    "# Cython Basics"
   ]
  },
  {
   "cell_type": "markdown",
   "metadata": {},
   "source": [
    "## Declare C variables (Type definition)\n",
    "```cython\n",
    "cdef int i, j, k\n",
    "cdef float f, g[42], *h\n",
    "```"
   ]
  },
  {
   "cell_type": "markdown",
   "metadata": {},
   "source": [
    "### sturct, union, enum\n",
    "```cython\n",
    "cdef struct Grail:\n",
    "    int age\n",
    "    float volume\n",
    "\n",
    "cdef union Food:\n",
    "    char *spam\n",
    "    float *eggs\n",
    "\n",
    "cdef enum CheeseType:\n",
    "    cheddar, edam,\n",
    "    camembert\n",
    "\n",
    "cdef enum CheeseState:\n",
    "    hard = 1\n",
    "    soft = 2\n",
    "    runny = 3\n",
    "```"
   ]
  },
  {
   "cell_type": "markdown",
   "metadata": {},
   "source": [
    "### constant (via anonymous enum)\n",
    "```cython\n",
    "cdef enum:\n",
    "    tons_of_spam = 3\n",
    "```"
   ]
  },
  {
   "cell_type": "markdown",
   "metadata": {},
   "source": [
    "### C typedef\n",
    "```cython\n",
    "ctypedef unsigned long ULong\n",
    "\n",
    "ctypedef int* IntPtr\n",
    "```"
   ]
  },
  {
   "cell_type": "markdown",
   "metadata": {},
   "source": [
    "## Various **cdef** declarations"
   ]
  },
  {
   "cell_type": "markdown",
   "metadata": {},
   "source": [
    "|C type | Cython cdef statement|\n",
    "|-------|:---------------------|\n",
    "|Pointers |cdef int *p <br> cdef void ***buf|\n",
    "|Stack-allocated C arrays|cdef int arr[10] <br> cdef double points[20][30]|\n",
    "|typedefed aliased types|cdef size_t len|\n",
    "| Compound types (structs and unions)|cdef tm time_struct <br> cdef int_short_union_t hi_lo_bytes|\n",
    "|Function pointers|cdef void (*f)(int, double)|\n",
    "￼￼￼￼￼￼￼￼￼￼"
   ]
  },
  {
   "cell_type": "markdown",
   "metadata": {},
   "source": [
    "### CAVEAT\n",
    "No need to declare variable by refering the type, use:\n",
    "```cython\n",
    "cdef Grail *gp\n",
    "```\n",
    "Instead of:\n",
    "```cython\n",
    "cdef struct Grail *gp\n",
    "```"
   ]
  },
  {
   "cell_type": "markdown",
   "metadata": {},
   "source": [
    "## Type correspondence"
   ]
  },
  {
   "cell_type": "markdown",
   "metadata": {},
   "source": []
  },
  {
   "cell_type": "markdown",
   "metadata": {},
   "source": [
    "## Type Conventions"
   ]
  },
  {
   "cell_type": "markdown",
   "metadata": {},
   "source": [
    "|C types\t| From Python types\t| To Python types |\n",
    "|-----------|:------------------|:----------------|\n",
    "|[unsigned] char [unsigned] short int, long\t|int, long\t|int|\n",
    "|unsigned int unsigned long [unsigned] long long\t|int, long\t|long|\n",
    "|float, double, long double\t|int, long, float\t|float|\n",
    "|char*\t|str/bytes\t|str/bytes |\n",
    "|struct\t| \t| dict|"
   ]
  },
  {
   "cell_type": "markdown",
   "metadata": {},
   "source": [
    "### CAVEAT on using Python string in C\n",
    "String concatenation\n",
    "```cython\n",
    "cdef char *s\n",
    "s = pystring1 + pystring2\n",
    "```\n",
    "Instead, \n",
    "```cython\n",
    "cdef char *s\n",
    "p = pystring1 + pystring2\n",
    "s = p\n",
    "```"
   ]
  }
 ],
 "metadata": {
  "kernelspec": {
   "display_name": "Python 2",
   "language": "python",
   "name": "python2"
  },
  "language_info": {
   "codemirror_mode": {
    "name": "ipython",
    "version": 2
   },
   "file_extension": ".py",
   "mimetype": "text/x-python",
   "name": "python",
   "nbconvert_exporter": "python",
   "pygments_lexer": "ipython2",
   "version": "2.7.10"
  }
 },
 "nbformat": 4,
 "nbformat_minor": 0
}
