{
 "cells": [
  {
   "cell_type": "code",
   "execution_count": 2,
   "metadata": {
    "collapsed": false
   },
   "outputs": [],
   "source": [
    "from __future__ import print_function\n",
    "from IPython.display import HTML, display\n",
    "def go_board(s):\n",
    "    stones = {x:i%2 for i,x in enumerate(map(eval, s))}\n",
    "    def pos(i):\n",
    "        return int(7+(220-6.5)*i/8)\n",
    "    imgstr = \"<img src='img/go%s.png' width='23px' height='23px' style='position: absolute; top: %spx; left: %spx;margin-top: 0' />\"\n",
    "    display(HTML(\"\"\"<div style=\"width: 250px; height:250px;position: relative\">\n",
    "   <img src='img/Blank_Go_board_9x9.png' width=\"100%\" height=\"100%\" style=\"position: relative;left: 0;top: 0;margin-top: 0\"/>\n",
    "   \"\"\" + \"\\n\".join(imgstr%('white' if c else 'black', pos(i), pos(j)) for (i,j),c in stones.items()) +\"</div>\"))"
   ]
  },
  {
   "cell_type": "markdown",
   "metadata": {},
   "source": [
    "先看看 python 跑的時間"
   ]
  },
  {
   "cell_type": "code",
   "execution_count": 6,
   "metadata": {
    "collapsed": false
   },
   "outputs": [
    {
     "data": {
      "text/html": [
       "<div style=\"width: 250px; height:250px;position: relative\">\n",
       "   <img src='img/Blank_Go_board_9x9.png' width=\"100%\" height=\"100%\" style=\"position: relative;left: 0;top: 0;margin-top: 0\"/>\n",
       "   <img src='img/goblack.png' width='23px' height='23px' style='position: absolute; top: 87px; left: 167px;margin-top: 0' /></div>"
      ],
      "text/plain": [
       "<IPython.core.display.HTML object>"
      ]
     },
     "metadata": {},
     "output_type": "display_data"
    },
    {
     "name": "stdout",
     "output_type": "stream",
     "text": [
      "1 loops, best of 1: 11.6 s per loop\n"
     ]
    }
   ],
   "source": [
    "%%timeit -r 1 -n 1\n",
    "rtn = !python2 go/go.py\n",
    "go_board(rtn)"
   ]
  },
  {
   "cell_type": "code",
   "execution_count": 5,
   "metadata": {
    "collapsed": false
   },
   "outputs": [
    {
     "data": {
      "text/html": [
       "<div style=\"width: 250px; height:250px;position: relative\">\n",
       "   <img src='img/Blank_Go_board_9x9.png' width=\"100%\" height=\"100%\" style=\"position: relative;left: 0;top: 0;margin-top: 0\"/>\n",
       "   <img src='img/goblack.png' width='23px' height='23px' style='position: absolute; top: 113px; left: 87px;margin-top: 0' /></div>"
      ],
      "text/plain": [
       "<IPython.core.display.HTML object>"
      ]
     },
     "metadata": {},
     "output_type": "display_data"
    },
    {
     "name": "stdout",
     "output_type": "stream",
     "text": [
      "1 loops, best of 1: 13.1 s per loop\n"
     ]
    }
   ],
   "source": [
    "%%timeit -r 1 -n 1\n",
    "rtn = !python3 go/go.py\n",
    "go_board(rtn)"
   ]
  },
  {
   "cell_type": "markdown",
   "metadata": {},
   "source": [
    "換成 pypy 看看"
   ]
  },
  {
   "cell_type": "code",
   "execution_count": 7,
   "metadata": {
    "collapsed": false
   },
   "outputs": [
    {
     "data": {
      "text/html": [
       "<div style=\"width: 250px; height:250px;position: relative\">\n",
       "   <img src='img/Blank_Go_board_9x9.png' width=\"100%\" height=\"100%\" style=\"position: relative;left: 0;top: 0;margin-top: 0\"/>\n",
       "   <img src='img/goblack.png' width='23px' height='23px' style='position: absolute; top: 87px; left: 167px;margin-top: 0' /></div>"
      ],
      "text/plain": [
       "<IPython.core.display.HTML object>"
      ]
     },
     "metadata": {},
     "output_type": "display_data"
    },
    {
     "name": "stdout",
     "output_type": "stream",
     "text": [
      "1 loops, best of 1: 8.92 s per loop\n"
     ]
    }
   ],
   "source": [
    "%%timeit -r 1 -n 1\n",
    "rtn = !pypy go/go.py\n",
    "go_board(rtn)"
   ]
  },
  {
   "cell_type": "markdown",
   "metadata": {},
   "source": [
    "用 Cython 來編譯同樣的檔案    \n",
    "下面 cython 將檔案直接編譯成可執行檔的方式"
   ]
  },
  {
   "cell_type": "code",
   "execution_count": 8,
   "metadata": {
    "collapsed": false
   },
   "outputs": [
    {
     "name": "stdout",
     "output_type": "stream",
     "text": [
      "/home/tjw/src/cythonup/module/quick_prototyping_for_speed\n",
      "/home/tjw/src/cythonup/module/quick_prototyping_for_speed/go\n",
      "總計 1204\n",
      "-rwxr-xr-x 1 tjw users 591031  7月 22 17:29 go\n",
      "-rw-r--r-- 1 tjw users 606812  7月 22 17:29 go.c\n",
      "-rw-r--r-- 1 tjw users   3521  7月 22 12:36 go.pxd\n",
      "-rw-r--r-- 1 tjw users  13972  7月 22 17:26 go.py\n",
      "-rw-r--r-- 1 tjw users    165  7月 22 12:36 Makefile\n",
      "-rw-r--r-- 1 tjw users    254  7月 22 12:36 README.md\n",
      "/home/tjw/src/cythonup/module/quick_prototyping_for_speed\n"
     ]
    }
   ],
   "source": [
    "%cd --quick_prototyping_for_speed\n",
    "%cd go\n",
    "!cython --embed go.py\n",
    "!gcc -O2 -o go go.c `python2-config --cflags --ldflags`\n",
    "!ls -l\n",
    "%cd .."
   ]
  },
  {
   "cell_type": "markdown",
   "metadata": {},
   "source": [
    "執行看看"
   ]
  },
  {
   "cell_type": "code",
   "execution_count": 20,
   "metadata": {
    "collapsed": false
   },
   "outputs": [
    {
     "data": {
      "text/html": [
       "<div style=\"width: 250px; height:250px;position: relative\">\n",
       "   <img src='img/Blank_Go_board_9x9.png' width=\"100%\" height=\"100%\" style=\"position: relative;left: 0;top: 0;margin-top: 0\"/>\n",
       "   <img src='img/goblack.png' width='23px' height='23px' style='position: absolute; top: 87px; left: 167px;margin-top: 0' /></div>"
      ],
      "text/plain": [
       "<IPython.core.display.HTML object>"
      ]
     },
     "metadata": {},
     "output_type": "display_data"
    },
    {
     "name": "stdout",
     "output_type": "stream",
     "text": [
      "1 loops, best of 1: 598 ms per loop\n"
     ]
    }
   ],
   "source": [
    "%%timeit -r 1 -n 1\n",
    "rtn = !go/go\n",
    "go_board(rtn)"
   ]
  },
  {
   "cell_type": "markdown",
   "metadata": {},
   "source": [
    "速度大約是 20 倍， 所以可以讓我們多跑幾步"
   ]
  },
  {
   "cell_type": "code",
   "execution_count": 21,
   "metadata": {
    "collapsed": false
   },
   "outputs": [
    {
     "data": {
      "text/html": [
       "<div style=\"width: 250px; height:250px;position: relative\">\n",
       "   <img src='img/Blank_Go_board_9x9.png' width=\"100%\" height=\"100%\" style=\"position: relative;left: 0;top: 0;margin-top: 0\"/>\n",
       "   <img src='img/goblack.png' width='23px' height='23px' style='position: absolute; top: 167px; left: 113px;margin-top: 0' />\n",
       "<img src='img/gowhite.png' width='23px' height='23px' style='position: absolute; top: 113px; left: 167px;margin-top: 0' />\n",
       "<img src='img/gowhite.png' width='23px' height='23px' style='position: absolute; top: 113px; left: 140px;margin-top: 0' />\n",
       "<img src='img/gowhite.png' width='23px' height='23px' style='position: absolute; top: 193px; left: 167px;margin-top: 0' />\n",
       "<img src='img/goblack.png' width='23px' height='23px' style='position: absolute; top: 113px; left: 113px;margin-top: 0' />\n",
       "<img src='img/gowhite.png' width='23px' height='23px' style='position: absolute; top: 220px; left: 60px;margin-top: 0' />\n",
       "<img src='img/goblack.png' width='23px' height='23px' style='position: absolute; top: 87px; left: 167px;margin-top: 0' />\n",
       "<img src='img/gowhite.png' width='23px' height='23px' style='position: absolute; top: 87px; left: 193px;margin-top: 0' />\n",
       "<img src='img/goblack.png' width='23px' height='23px' style='position: absolute; top: 113px; left: 87px;margin-top: 0' />\n",
       "<img src='img/goblack.png' width='23px' height='23px' style='position: absolute; top: 87px; left: 140px;margin-top: 0' /></div>"
      ],
      "text/plain": [
       "<IPython.core.display.HTML object>"
      ]
     },
     "metadata": {},
     "output_type": "display_data"
    },
    {
     "name": "stdout",
     "output_type": "stream",
     "text": [
      "1 loops, best of 1: 5.47 s per loop\n"
     ]
    }
   ],
   "source": [
    "%%timeit -r 1 -n 1\n",
    "rtn = !go/go 10\n",
    "go_board(rtn)"
   ]
  },
  {
   "cell_type": "markdown",
   "metadata": {},
   "source": [
    "因為 cython 會吃 [go.pxd](/edit/go/go.pxd) 來使用型態定義，所以表面上是一樣的原始碼，其實 cython 偷偷多知道很多資訊。"
   ]
  }
 ],
 "metadata": {
  "kernelspec": {
   "display_name": "Python 2",
   "language": "python",
   "name": "python2"
  },
  "language_info": {
   "codemirror_mode": {
    "name": "ipython",
    "version": 2
   },
   "file_extension": ".py",
   "mimetype": "text/x-python",
   "name": "python",
   "nbconvert_exporter": "python",
   "pygments_lexer": "ipython2",
   "version": "2.7.8"
  }
 },
 "nbformat": 4,
 "nbformat_minor": 0
}
