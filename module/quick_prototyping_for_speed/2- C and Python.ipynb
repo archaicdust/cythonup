{
 "cells": [
  {
   "cell_type": "markdown",
   "metadata": {},
   "source": [
    "\n",
    "# 用 C 的方式寫 Python"
   ]
  },
  {
   "cell_type": "markdown",
   "metadata": {},
   "source": [
    "_1._ 記憶體存取效率"
   ]
  },
  {
   "cell_type": "markdown",
   "metadata": {},
   "source": [
    "[knapsack_0_original.py](/edit/knapsack/knapsack_0_original.py) 的問題：\n",
    "\n",
    "第 21 行\n",
    "```python\n",
    "left = [item for item in items if item.weight <= K]\n",
    "```\n",
    "\n",
    "第 39 行\n",
    "\n",
    "```python\n",
    " v, idxs = search(left[i + 1:], K-item.weight, best_v, current_v+item.value, current_line+[item.index])\n",
    "```\n",
    "\n",
    "list copy/create 太過昂貴（雖然很方便）\n",
    "\n",
    "解決方法：\n",
    "* 非必要的東西不傳/不建立\n",
    "* 一定要傳的東西，共用/還原\n",
    "* 但是要很小心\n",
    "* np.array 和 cython 的 typed memoryview (類似 go 的 slice)\n",
    "* c array 自己追範圍\n",
    "* C++ 的 vector 取代 list"
   ]
  },
  {
   "cell_type": "markdown",
   "metadata": {},
   "source": [
    "標準例子 from http://docs.cython.org/src/userguide/memoryviews.html"
   ]
  },
  {
   "cell_type": "code",
   "execution_count": 4,
   "metadata": {
    "collapsed": false
   },
   "outputs": [
    {
     "name": "stdout",
     "output_type": "stream",
     "text": [
      "NumPy sum of the NumPy array before assignments: 351\n",
      "NumPy sum of NumPy array after assignments: 81\n",
      "Memoryview sum of NumPy array is 81\n",
      "Memoryview sum of C array is 451\n",
      "Memoryview sum of Cython array is 1351\n",
      "Memoryview sum of C memoryview is 451\n"
     ]
    }
   ],
   "source": [
    "%%cython\n",
    "# cython: boundscheck=False\n",
    "from cython.view cimport array as cvarray\n",
    "import numpy as np\n",
    "\n",
    "# Memoryview on a NumPy array\n",
    "narr = np.arange(27, dtype=np.dtype(\"i\")).reshape((3, 3, 3))\n",
    "cdef int [:, :, :] narr_view = narr\n",
    "\n",
    "# Memoryview on a C array\n",
    "cdef int carr[3][3][3]\n",
    "cdef int [:, :, :] carr_view = carr\n",
    "\n",
    "# Memoryview on a Cython array\n",
    "cyarr = cvarray(shape=(3, 3, 3), itemsize=sizeof(int), format=\"i\")\n",
    "cdef int [:, :, :] cyarr_view = cyarr\n",
    "\n",
    "# Show the sum of all the arrays before altering it\n",
    "print \"NumPy sum of the NumPy array before assignments:\", narr.sum()\n",
    "\n",
    "# We can copy the values from one memoryview into another using a single\n",
    "# statement, by either indexing with ... or (NumPy-style) with a colon.\n",
    "carr_view[...] = narr_view\n",
    "cyarr_view[:] = narr_view\n",
    "# NumPy-style syntax for assigning a single value to all elements.\n",
    "narr_view[:, :, :] = 3\n",
    "\n",
    "# Just to distinguish the arrays\n",
    "carr_view[0, 0, 0] = 100\n",
    "cyarr_view[0, 0, 0] = 1000\n",
    "\n",
    "# Assigning into the memoryview on the NumPy array alters the latter\n",
    "print \"NumPy sum of NumPy array after assignments:\", narr.sum()\n",
    "\n",
    "# A function using a memoryview does not usually need the GIL\n",
    "cpdef int sum3d(int[:, :, :] arr) nogil:\n",
    "    cdef int total = 0\n",
    "    I = arr.shape[0]\n",
    "    J = arr.shape[1]\n",
    "    K = arr.shape[2]\n",
    "    for i in range(I):\n",
    "        for j in range(J):\n",
    "            for k in range(K):\n",
    "                total += arr[i, j, k]\n",
    "    return total\n",
    "\n",
    "# A function accepting a memoryview knows how to use a NumPy array,\n",
    "# a C array, a Cython array...\n",
    "print \"Memoryview sum of NumPy array is\", sum3d(narr)\n",
    "print \"Memoryview sum of C array is\", sum3d(carr)\n",
    "print \"Memoryview sum of Cython array is\", sum3d(cyarr)\n",
    "# ... and of course, a memoryview.\n",
    "print \"Memoryview sum of C memoryview is\", sum3d(carr_view)"
   ]
  },
  {
   "cell_type": "markdown",
   "metadata": {},
   "source": [
    "Memoryview 的用法和思維接近 np.array\n",
    "\n",
    "你可以用 np.array 來包\n",
    "* np.array\n",
    "* C array `cdef int carr[3][3][3]`\n",
    "* Cython array `from cython.view cimport array`\n",
    "* cython 會幫你自動轉換"
   ]
  },
  {
   "cell_type": "code",
   "execution_count": 15,
   "metadata": {
    "collapsed": false
   },
   "outputs": [
    {
     "name": "stdout",
     "output_type": "stream",
     "text": [
      "type of a is <MemoryView of 'ndarray' object>\n",
      "type of b is <MemoryView of 'ndarray' object>\n"
     ]
    }
   ],
   "source": [
    "%%cython\n",
    "import numpy as np\n",
    "from array import array\n",
    "def f(long[:] a):\n",
    "    print \"type of a is\", a\n",
    "f(np.array([1,2,3]))\n",
    "cdef long[:] b =np.array([1,2,3])\n",
    "print \"type of b is\", b"
   ]
  },
  {
   "cell_type": "markdown",
   "metadata": {},
   "source": [
    "通常不需要 gil"
   ]
  },
  {
   "cell_type": "code",
   "execution_count": 34,
   "metadata": {
    "collapsed": false
   },
   "outputs": [],
   "source": [
    "%%cython  --compile-args=-fopenmp  --link-args=-fopenmp\n",
    "# cython: infer_types=True, boundscheck=False \n",
    "from cython.parallel import prange\n",
    "from libc.math cimport sin\n",
    "cpdef double[:] fx3(double[:] a):\n",
    "    cdef Py_ssize_t i\n",
    "    cdef int n = a.size, j\n",
    "    for i in prange(n, nogil=True):\n",
    "    #for i in range(n):\n",
    "        for j in range(10000):\n",
    "            a[i] = sin(a[i]*a[i]+a[i])\n",
    "    return a"
   ]
  },
  {
   "cell_type": "code",
   "execution_count": 37,
   "metadata": {
    "collapsed": false
   },
   "outputs": [
    {
     "name": "stdout",
     "output_type": "stream",
     "text": [
      "CPU times: user 2.91 s, sys: 2 ms, total: 2.91 s\n",
      "Wall time: 405 ms\n"
     ]
    }
   ],
   "source": [
    "%%time\n",
    "import numpy as np\n",
    "a = np.arange(10000, dtype=float)\n",
    "fx3(a)"
   ]
  },
  {
   "cell_type": "markdown",
   "metadata": {},
   "source": [
    "### More about prange"
   ]
  },
  {
   "cell_type": "code",
   "execution_count": 44,
   "metadata": {
    "collapsed": false
   },
   "outputs": [
    {
     "name": "stdout",
     "output_type": "stream",
     "text": [
      "4950\n"
     ]
    }
   ],
   "source": [
    "%%cython  --compile-args=-fopenmp  --link-args=-fopenmp\n",
    "# cython: infer_types=True, boundscheck=False \n",
    "from cython.parallel import prange\n",
    "import numpy as np\n",
    "cdef long fx3(long[:] a):\n",
    "    cdef Py_ssize_t i\n",
    "    cdef long n = a.size, j=0\n",
    "    for i in prange(n, nogil=True):    \n",
    "        j+=a[i]\n",
    "    return j\n",
    "print fx3(np.array(range(100)))"
   ]
  },
  {
   "cell_type": "code",
   "execution_count": 48,
   "metadata": {
    "collapsed": false
   },
   "outputs": [
    {
     "name": "stdout",
     "output_type": "stream",
     "text": [
      "[88, 52, 13, 39, 53, 0, 40, 26, 76, 41, 14, 64, 1, 42, 54, 89, 43, 15, 77, 90, 27, 2, 91, 55, 78, 56, 16, 65, 28, 57, 44, 17, 45, 18, 66, 92, 19, 3, 67, 46, 4, 58, 47, 29, 5, 59, 79, 93, 6, 7, 8, 9, 10, 11, 12, 48, 94, 68, 20, 60, 95, 61, 49, 96, 69, 21, 70, 22, 71, 50, 97, 62, 51, 98, 63, 99, 72, 73, 74, 75, 23, 24, 25, 80, 81, 82, 30, 31, 32, 33, 83, 34, 84, 35, 36, 37, 85, 38, 86, 87]\n"
     ]
    }
   ],
   "source": [
    "%%cython  -f --cplus --compile-args=-fopenmp  --link-args=-fopenmp\n",
    "# cython: infer_types=True, boundscheck=False \n",
    "from cython.parallel import prange\n",
    "from libcpp.vector cimport vector\n",
    "cdef fx3():\n",
    "    cdef Py_ssize_t i\n",
    "    cdef vector[long] v\n",
    "    for i in prange(100, nogil=True):\n",
    "        with gil:\n",
    "            v.push_back(i)\n",
    "    return v\n",
    "print fx3()"
   ]
  },
  {
   "cell_type": "markdown",
   "metadata": {},
   "source": [
    "# 用 Python 的方式寫 C"
   ]
  },
  {
   "cell_type": "markdown",
   "metadata": {},
   "source": [
    "* list 可以用 vector 替代\n",
    "* dict 可以用 map 替代（不過 map 比較像 defaultdict）\n",
    "\n",
    "但怎麼共存？\n",
    "* len(list)   $\\neq$ vector.size\n",
    "* list.append $\\neq$ vector.push_back"
   ]
  },
  {
   "cell_type": "markdown",
   "metadata": {},
   "source": [
    "例子:  brainfuck4_merge\n",
    "\n",
    "in bf4_merge.pxd\n",
    "```cython\n",
    "from vector_list import vector\n",
    "vector[char] cells\n",
    "vector[char] P\n",
    "```\n",
    "\n",
    "in bf4_merge.py\n",
    "```python\n",
    "# 看起來跟普通的 list 一樣\n",
    "cells = [0]*1000\n",
    "P = [ord(x) for x in open(sys.argv[1], \"r\").read()]\n",
    "```\n",
    "in vector_list.pxd  (`list.__len__()` 在 python 也可以用)\n",
    "```cython\n",
    "        void append \"push_back\"(T&) except +\n",
    "        size_t __len__ \"size\"()\n",
    "```"
   ]
  },
  {
   "cell_type": "markdown",
   "metadata": {},
   "source": [
    "cdef 出來的函數在 python 中沒有怎麼辦?\n",
    "\n",
    "例子: brainfuck5\n",
    "in brainfuck5_improved.pxd\n",
    "```cython\n",
    "from libc.stdio cimport putchar\n",
    "```\n",
    "in brainfuck5_improved.py\n",
    "```python\n",
    "from __future__ import print_function\n",
    "globals()['putchar'] = lambda x: print(chr(x), end=\"\")\n",
    "```\n",
    "\n",
    "或者 `from xxx import putchar` 也行\n"
   ]
  },
  {
   "cell_type": "markdown",
   "metadata": {},
   "source": [
    "_2._ 指標"
   ]
  },
  {
   "cell_type": "markdown",
   "metadata": {},
   "source": [
    "cython 不像 C++ 有 `p->x` 和 `p.x` 的差別，在 cython 要特別小心 "
   ]
  }
 ],
 "metadata": {
  "kernelspec": {
   "display_name": "Python 2",
   "language": "python",
   "name": "python2"
  },
  "language_info": {
   "codemirror_mode": {
    "name": "ipython",
    "version": 2
   },
   "file_extension": ".py",
   "mimetype": "text/x-python",
   "name": "python",
   "nbconvert_exporter": "python",
   "pygments_lexer": "ipython2",
   "version": "2.7.8"
  }
 },
 "nbformat": 4,
 "nbformat_minor": 0
}
