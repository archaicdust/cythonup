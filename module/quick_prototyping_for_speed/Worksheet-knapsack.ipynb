{
 "cells": [
  {
   "cell_type": "markdown",
   "metadata": {
    "collapsed": false
   },
   "source": [
    "# 背包問題 worksheet"
   ]
  },
  {
   "cell_type": "markdown",
   "metadata": {},
   "source": [
    "### 先用 cython 編譯"
   ]
  },
  {
   "cell_type": "code",
   "execution_count": 18,
   "metadata": {
    "collapsed": false
   },
   "outputs": [
    {
     "name": "stdout",
     "output_type": "stream",
     "text": [
      "make: Nothing to be done for 'all'.\r\n"
     ]
    }
   ],
   "source": [
    "! cd knapsack/;make"
   ]
  },
  {
   "cell_type": "markdown",
   "metadata": {},
   "source": [
    "先看看 python 跑的時間"
   ]
  },
  {
   "cell_type": "code",
   "execution_count": 19,
   "metadata": {
    "collapsed": false
   },
   "outputs": [
    {
     "name": "stdout",
     "output_type": "stream",
     "text": [
      "1099893 [3003, 568, 7055, 3023, 8034, 9756, 1824, 7577, 2946, 2641, 9431, 2192, 2827, 7498, 6113] ub= 1099906\n",
      "1 loops, best of 1: 8min 29s per loop\n"
     ]
    }
   ],
   "source": [
    "%%timeit -r 1 -n 1\n",
    "rtn = !python2 knapsack/knapsack_0_original.py knapsack/ks_10000_0\n",
    "print(rtn[-1])"
   ]
  },
  {
   "cell_type": "markdown",
   "metadata": {},
   "source": [
    "換成 pypy 看看"
   ]
  },
  {
   "cell_type": "code",
   "execution_count": 20,
   "metadata": {
    "collapsed": false
   },
   "outputs": [
    {
     "name": "stdout",
     "output_type": "stream",
     "text": [
      "1099893 [3003, 568, 7055, 3023, 8034, 9756, 1824, 7577, 2946, 2641, 9431, 2192, 2827, 7498, 6113] ub= 1099906\n",
      "1 loops, best of 1: 1min 18s per loop\n"
     ]
    }
   ],
   "source": [
    "%%timeit -r 1 -n 1\n",
    "rtn = !pypy knapsack/knapsack_0_original.py knapsack/ks_10000_0\n",
    "print(rtn[-1])"
   ]
  },
  {
   "cell_type": "markdown",
   "metadata": {},
   "source": [
    "用 cython 跑看看"
   ]
  },
  {
   "cell_type": "code",
   "execution_count": 37,
   "metadata": {
    "collapsed": false
   },
   "outputs": [
    {
     "name": "stdout",
     "output_type": "stream",
     "text": [
      "1099893 [3003, 568, 7055, 3023, 8034, 9756, 1824, 7577, 2946, 2641, 9431, 2192, 2827, 7498, 6113] ub= 1099906\n",
      "1 loops, best of 1: 7min 1s per loop\n"
     ]
    }
   ],
   "source": [
    "%%timeit -r 1 -n 1\n",
    "rtn = !knapsack/knapsack_0_original knapsack/ks_10000_0\n",
    "print(rtn[-1])"
   ]
  },
  {
   "cell_type": "markdown",
   "metadata": {},
   "source": [
    "試試看 knapsack_1_improved.py"
   ]
  },
  {
   "cell_type": "code",
   "execution_count": 22,
   "metadata": {
    "collapsed": false
   },
   "outputs": [
    {
     "name": "stdout",
     "output_type": "stream",
     "text": [
      "1099893 3003\n",
      "1 loops, best of 1: 29.8 s per loop\n"
     ]
    }
   ],
   "source": [
    "%%timeit -r 1 -n 1\n",
    "rtn = !python2 knapsack/knapsack_1_improved.py knapsack/ks_10000_0\n",
    "print(rtn[-1])"
   ]
  },
  {
   "cell_type": "code",
   "execution_count": 23,
   "metadata": {
    "collapsed": false
   },
   "outputs": [
    {
     "name": "stdout",
     "output_type": "stream",
     "text": [
      "1099893 3003\n",
      "1 loops, best of 1: 3.12 s per loop\n"
     ]
    }
   ],
   "source": [
    "%%timeit -r 1 -n 1\n",
    "rtn = !pypy knapsack/knapsack_1_improved.py knapsack/ks_10000_0\n",
    "print(rtn[-1])"
   ]
  },
  {
   "cell_type": "code",
   "execution_count": 31,
   "metadata": {
    "collapsed": false
   },
   "outputs": [
    {
     "name": "stdout",
     "output_type": "stream",
     "text": [
      "1099893 3003\n",
      "1 loops, best of 1: 23.1 s per loop\n"
     ]
    }
   ],
   "source": [
    "%%timeit -r 1 -n 1\n",
    "rtn = !knapsack/knapsack_1_improved knapsack/ks_10000_0\n",
    "print(rtn[-1])"
   ]
  },
  {
   "cell_type": "markdown",
   "metadata": {},
   "source": [
    "### 加上型態?"
   ]
  },
  {
   "cell_type": "code",
   "execution_count": 25,
   "metadata": {
    "collapsed": false
   },
   "outputs": [
    {
     "name": "stdout",
     "output_type": "stream",
     "text": [
      "1099893 3003\n",
      "1 loops, best of 1: 30 s per loop\n"
     ]
    }
   ],
   "source": [
    "%%timeit -r 1 -n 1\n",
    "rtn = !python2 knapsack/knapsack_2_typed.py knapsack/ks_10000_0\n",
    "print(rtn[-1])"
   ]
  },
  {
   "cell_type": "code",
   "execution_count": 32,
   "metadata": {
    "collapsed": false
   },
   "outputs": [
    {
     "name": "stdout",
     "output_type": "stream",
     "text": [
      "1099893 3003\n",
      "1 loops, best of 1: 3.15 s per loop\n"
     ]
    }
   ],
   "source": [
    "%%timeit -r 1 -n 1\n",
    "rtn = !pypy knapsack/knapsack_2_typed.py knapsack/ks_10000_0\n",
    "print(rtn[-1])"
   ]
  },
  {
   "cell_type": "code",
   "execution_count": 33,
   "metadata": {
    "collapsed": false
   },
   "outputs": [
    {
     "name": "stdout",
     "output_type": "stream",
     "text": [
      "1099893 3003\n",
      "1 loops, best of 1: 22.6 s per loop\n"
     ]
    }
   ],
   "source": [
    "%%timeit -r 1 -n 1\n",
    "rtn = !knapsack/knapsack_2_typed knapsack/ks_10000_0\n",
    "print(rtn[-1])"
   ]
  },
  {
   "cell_type": "markdown",
   "metadata": {},
   "source": [
    "### Memoryview"
   ]
  },
  {
   "cell_type": "code",
   "execution_count": 36,
   "metadata": {
    "collapsed": false
   },
   "outputs": [
    {
     "name": "stdout",
     "output_type": "stream",
     "text": [
      "1099893 3003\n",
      "1 loops, best of 1: 4.37 s per loop\n"
     ]
    }
   ],
   "source": [
    "%%timeit -r 1 -n 1\n",
    "rtn = !python2 knapsack/knapsack_3_memoryview.py knapsack/ks_10000_0\n",
    "print(rtn[-1])"
   ]
  },
  {
   "cell_type": "code",
   "execution_count": 35,
   "metadata": {
    "collapsed": false
   },
   "outputs": [
    {
     "name": "stdout",
     "output_type": "stream",
     "text": [
      "1099893 3003\n",
      "1 loops, best of 1: 1.17 s per loop\n"
     ]
    }
   ],
   "source": [
    "%%timeit -r 1 -n 1\n",
    "rtn = !pypy knapsack/knapsack_3_memoryview.py knapsack/ks_10000_0\n",
    "print(rtn[-1])"
   ]
  },
  {
   "cell_type": "code",
   "execution_count": 34,
   "metadata": {
    "collapsed": false
   },
   "outputs": [
    {
     "name": "stdout",
     "output_type": "stream",
     "text": [
      "1099893 3003\n",
      "1 loops, best of 1: 309 ms per loop\n"
     ]
    }
   ],
   "source": [
    "%%timeit -r 1 -n 1\n",
    "rtn = !knapsack/knapsack_3_memoryview knapsack/ks_10000_0\n",
    "print(rtn[-1])"
   ]
  }
 ],
 "metadata": {
  "kernelspec": {
   "display_name": "Python 2",
   "language": "python",
   "name": "python2"
  },
  "language_info": {
   "codemirror_mode": {
    "name": "ipython",
    "version": 2
   },
   "file_extension": ".py",
   "mimetype": "text/x-python",
   "name": "python",
   "nbconvert_exporter": "python",
   "pygments_lexer": "ipython2",
   "version": "2.7.8"
  }
 },
 "nbformat": 4,
 "nbformat_minor": 0
}
