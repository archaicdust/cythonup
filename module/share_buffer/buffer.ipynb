{
 "cells": [
  {
   "cell_type": "markdown",
   "metadata": {
    "slideshow": {
     "slide_type": "slide"
    }
   },
   "source": [
    "# Python manages, C works\n",
    "\n",
    "When exchanging information between Python and C, we don't want to duplication precious resources.  We want a resource manager to do bookkeeping and interpretation on demand.  When the resource is a simple array, a pointer plus an integer will do.  But when it's more complex than the trivial case, we'll have more work to do.\n",
    "\n",
    "This module demonstrates how to code up a multidimensional array that allows negative indices in C.  There will be three steps to achieve the goal."
   ]
  },
  {
   "cell_type": "markdown",
   "metadata": {
    "slideshow": {
     "slide_type": "slide"
    }
   },
   "source": [
    "# Step 1: Make C struct available\n",
    "\n",
    "We want to manage memory in Python, so let's start with a pure Python class."
   ]
  },
  {
   "cell_type": "code",
   "execution_count": 2,
   "metadata": {
    "collapsed": false
   },
   "outputs": [],
   "source": [
    "from __future__ import absolute_import, division, print_function\n",
    "\n",
    "import numpy as np\n",
    "\n",
    "class GhostArray:\n",
    "    def __init__(self, *args, **kw):\n",
    "        # Pop all custom keyword arguments.\n",
    "        creator_name = kw.pop(\"creation\", \"empty\")\n",
    "        # Create the ndarray and thus control the life cycle.\n",
    "        create = getattr(np, creator_name)\n",
    "        self.nda = create(*args, **kw)\n",
    "        if not self.nda.flags.c_contiguous:\n",
    "            raise ValueError(\"not C contiguous\")\n",
    "        ndim = len(self.nda.shape)\n",
    "        if ndim == 0:\n",
    "            raise ValueError(\"zero dimension is not allowed\")\n",
    "        assert ndim > 0\n",
    "\n",
    "    def __getattr__(self, name):\n",
    "        return getattr(self.nda, name)"
   ]
  },
  {
   "cell_type": "code",
   "execution_count": 3,
   "metadata": {
    "collapsed": false
   },
   "outputs": [
    {
     "name": "stdout",
     "output_type": "stream",
     "text": [
      "[0 2 4 6 8] <__main__.GhostArray object at 0x10441ecc0>\n"
     ]
    }
   ],
   "source": [
    "# Use ellipsis to set the contents.\n",
    "grr = GhostArray(5, dtype=\"int32\")\n",
    "grr.nda[...] = np.arange(0, grr.size*2, 2, dtype=\"int32\")\n",
    "print(grr.nda, grr)"
   ]
  },
  {
   "cell_type": "markdown",
   "metadata": {
    "slideshow": {
     "slide_type": "subslide"
    }
   },
   "source": [
    "## Prepare a C struct in Cython"
   ]
  },
  {
   "cell_type": "code",
   "execution_count": 4,
   "metadata": {
    "collapsed": false
   },
   "outputs": [],
   "source": [
    "%load_ext Cython"
   ]
  },
  {
   "cell_type": "code",
   "execution_count": 7,
   "metadata": {
    "collapsed": false,
    "slideshow": {
     "slide_type": "-"
    }
   },
   "outputs": [],
   "source": [
    "%%cython\n",
    "\n",
    "# Import from Cython-supplied clib header.\n",
    "from libc.stdlib cimport malloc, free\n",
    "\n",
    "import numpy as np\n",
    "cimport numpy as np\n",
    "\n",
    "\n",
    "# Define a C struct.\n",
    "ctypedef struct gstbuf_t:\n",
    "    char *elem\n",
    "    np.npy_intp nelem\n",
    "    int elemsize\n",
    "\n",
    "\n",
    "# Define a C extension type.\n",
    "cdef class GhostArray:\n",
    "    # Members of the extension type should be declared.\n",
    "    cdef gstbuf_t *_data\n",
    "    # Overwrite this memory holder may result into segfault with _data.elem.\n",
    "    cdef readonly object nda\n",
    "\n",
    "    # C-level \"constructor\"\n",
    "    def __cinit__(self, *args, **kw):\n",
    "        self._data = <gstbuf_t*>malloc(sizeof(gstbuf_t))\n",
    "        self._data.elem = <char*>(NULL)\n",
    "        self._data.elemsize = 0\n",
    "\n",
    "    # C-level \"destructor\"\n",
    "    def __dealloc__(self):\n",
    "        if NULL != self._data:\n",
    "            # Don't touch self._data.elem, which is managed by self.nda.\n",
    "            free(self._data)\n",
    "\n",
    "    def __init__(self, *args, **kw):\n",
    "        # Pop all custom keyword arguments.\n",
    "        creator_name = kw.pop(\"creation\", \"empty\")\n",
    "        # Create the ndarray and thus control the life cycle.\n",
    "        create = getattr(np, creator_name)\n",
    "        self.nda = create(*args, **kw)\n",
    "        if not self.nda.flags.c_contiguous:\n",
    "            raise ValueError(\"not C contiguous\")\n",
    "        ndim = len(self.nda.shape)\n",
    "        if ndim == 0:\n",
    "            raise ValueError(\"zero dimension is not allowed\")\n",
    "        assert ndim > 0\n",
    "        # Initialize internal data.\n",
    "        ## elem.\n",
    "        cdef np.ndarray cnda = self.nda\n",
    "        self._data.elem = <char*>cnda.data\n",
    "        ## nelem.\n",
    "        self._data.nelem = self.nda.size\n",
    "        ## elemsize (just a duplication of PyArray_Descr.elsize).\n",
    "        self._data.elemsize = self.nda.itemsize\n",
    "\n",
    "    def __getattr__(self, name):\n",
    "        return getattr(self.nda, name)"
   ]
  },
  {
   "cell_type": "markdown",
   "metadata": {
    "slideshow": {
     "slide_type": "subslide"
    }
   },
   "source": [
    "Very good.  Now note we mustn't override the attribute (`nda`) that holds our memory, so the code forbids it."
   ]
  },
  {
   "cell_type": "code",
   "execution_count": 6,
   "metadata": {
    "collapsed": false,
    "slideshow": {
     "slide_type": "-"
    }
   },
   "outputs": [
    {
     "ename": "AttributeError",
     "evalue": "attribute 'nda' of '_cython_magic_1b582f42819acefd825559cf89e01f91.GhostArray' objects is not writable",
     "output_type": "error",
     "traceback": [
      "\u001b[0;31m---------------------------------------------------------------------------\u001b[0m",
      "\u001b[0;31mAttributeError\u001b[0m                            Traceback (most recent call last)",
      "\u001b[0;32m<ipython-input-6-ecc0b69095b8>\u001b[0m in \u001b[0;36m<module>\u001b[0;34m()\u001b[0m\n\u001b[1;32m      1\u001b[0m \u001b[0mgrr\u001b[0m \u001b[0;34m=\u001b[0m \u001b[0mGhostArray\u001b[0m\u001b[0;34m(\u001b[0m\u001b[0;36m5\u001b[0m\u001b[0;34m,\u001b[0m \u001b[0mdtype\u001b[0m\u001b[0;34m=\u001b[0m\u001b[0;34m\"int32\"\u001b[0m\u001b[0;34m)\u001b[0m\u001b[0;34m\u001b[0m\u001b[0m\n\u001b[1;32m      2\u001b[0m \u001b[0;31m# We don't want to make the GhostArray.nda writable.\u001b[0m\u001b[0;34m\u001b[0m\u001b[0;34m\u001b[0m\u001b[0m\n\u001b[0;32m----> 3\u001b[0;31m \u001b[0mgrr\u001b[0m\u001b[0;34m.\u001b[0m\u001b[0mnda\u001b[0m \u001b[0;34m=\u001b[0m \u001b[0mnp\u001b[0m\u001b[0;34m.\u001b[0m\u001b[0marange\u001b[0m\u001b[0;34m(\u001b[0m\u001b[0mgrr\u001b[0m\u001b[0;34m.\u001b[0m\u001b[0msize\u001b[0m\u001b[0;34m,\u001b[0m \u001b[0mdtype\u001b[0m\u001b[0;34m=\u001b[0m\u001b[0;34m\"int32\"\u001b[0m\u001b[0;34m)\u001b[0m\u001b[0;34m\u001b[0m\u001b[0m\n\u001b[0m",
      "\u001b[0;31mAttributeError\u001b[0m: attribute 'nda' of '_cython_magic_1b582f42819acefd825559cf89e01f91.GhostArray' objects is not writable"
     ]
    }
   ],
   "source": [
    "grr = GhostArray(5, dtype=\"int32\")\n",
    "# We don't want to make the GhostArray.nda writable.\n",
    "grr.nda = np.arange(grr.size, dtype=\"int32\")"
   ]
  },
  {
   "cell_type": "code",
   "execution_count": null,
   "metadata": {
    "collapsed": false
   },
   "outputs": [],
   "source": [
    "# Use ellipsis to set the contents.\n",
    "grr.nda[...] = np.arange(0, grr.size*2, 2, dtype=\"int32\")\n",
    "print(grr.nda, grr)"
   ]
  },
  {
   "cell_type": "markdown",
   "metadata": {
    "collapsed": true,
    "slideshow": {
     "slide_type": "subslide"
    }
   },
   "source": [
    "## Show C the struct declaration"
   ]
  },
  {
   "cell_type": "markdown",
   "metadata": {},
   "source": [
    "To build C, we need to leave iPython and play with `distutils`.  Create a directory `01_c_struct/`:\n",
    "\n",
    "1. `setup.py`: The script driving `distutils`.\n",
    "2. `ghostbuffer/__init__.py`: Empty file that makes `ghostbuffer` a Python package.\n",
    "3. `ghostbuffer/core.py`: Python test code.\n",
    "4. `ghostbuffer/helper.c`: Where our C code goes.\n",
    "5. `ghostbuffer/gstbuf.pyx`: The Cython module for class `GhostArray`.\n",
    "\n",
    "If something goes wrong when your edit, check the already-written code in the directory `ref_01_c_struct/`."
   ]
  },
  {
   "cell_type": "markdown",
   "metadata": {
    "slideshow": {
     "slide_type": "subslide"
    }
   },
   "source": [
    "Our setup script (`setup.py`) is simple:\n",
    "\n",
    "```python\n",
    "from distutils.core import setup\n",
    "from distutils.extension import Extension\n",
    "\n",
    "from Cython.Build import cythonize\n",
    "import numpy as np\n",
    "\n",
    "\n",
    "def main():\n",
    "    extensions = cythonize([\n",
    "        Extension(\"ghostbuffer.gstbuf\",\n",
    "                  [\"ghostbuffer/gstbuf.pyx\", \"ghostbuffer/helper.c\"],\n",
    "                  include_dirs=[np.get_include()]),\n",
    "    ])\n",
    "    setup(\n",
    "        packages=['ghostbuffer'],\n",
    "        ext_modules=extensions,\n",
    "    )\n",
    "\n",
    "\n",
    "if __name__ == \"__main__\":\n",
    "    main()\n",
    "```"
   ]
  },
  {
   "cell_type": "markdown",
   "metadata": {
    "slideshow": {
     "slide_type": "subslide"
    }
   },
   "source": [
    "Test code (`ghostbuffer/core.py`) is simple:\n",
    "\n",
    "```python\n",
    "from . import gstbuf\n",
    "\n",
    "def print_int32(num):\n",
    "    grr = gstbuf.GhostArray(num, creation=\"arange\", dtype=\"int32\")\n",
    "    grr.print_int32()\n",
    "```"
   ]
  },
  {
   "cell_type": "markdown",
   "metadata": {},
   "source": [
    "In `ghostbuffer/helper.c`, add our C helper function:\n",
    "\n",
    "```c\n",
    "#include <Python.h>\n",
    "#include <stdio.h>\n",
    "#include <numpy/arrayobject.h>\n",
    "// This header file will be automatically generated by Cython.\n",
    "#include \"gstbuf.h\"\n",
    "\n",
    "void gstbuf_print_int32(gstbuf_t gbuf) {\n",
    "    if (4 != gbuf.elemsize) {\n",
    "        return;\n",
    "    }\n",
    "    int *elem = (int *)gbuf.elem;\n",
    "    for (npy_intp jt=0; jt<gbuf.nelem; jt++) {\n",
    "        printf(\"%lu: %d\\n\", jt, elem[jt]);\n",
    "    }\n",
    "}\n",
    "```"
   ]
  },
  {
   "cell_type": "markdown",
   "metadata": {
    "slideshow": {
     "slide_type": "subslide"
    }
   },
   "source": [
    "In `ghostbuffer/gstbuf.pyx`, fill in the `GhostArray` extension type.  But to let C see the `struct` declaration, we need to make it public:\n",
    "\n",
    "```python\n",
    "cdef public:\n",
    "    ctypedef struct gstbuf_t:\n",
    "        char *elem\n",
    "        np.npy_intp nelem\n",
    "        int elemsize\n",
    "```\n",
    "\n",
    "Cython will automatically generate `ghostbuffer/gstbuf.h` header file when it sees the `public` definition.\n",
    "\n",
    "We also need to let Cython recognize our C helper:\n",
    "\n",
    "```python\n",
    "cdef extern:\n",
    "    void gstbuf_print_int32(gstbuf_t gbuf)\n",
    "```\n",
    "\n",
    "Add an interface to the helper function to `GhostArray`:\n",
    "\n",
    "```python\n",
    "    def print_int32(self):\n",
    "        assert \"int32\" == self.nda.dtype\n",
    "        gstbuf_print_int32((self._data)[0])\n",
    "```"
   ]
  },
  {
   "cell_type": "markdown",
   "metadata": {
    "slideshow": {
     "slide_type": "subslide"
    }
   },
   "source": [
    "## Run it"
   ]
  },
  {
   "cell_type": "markdown",
   "metadata": {},
   "source": [
    "Now we compile the module:\n",
    "\n",
    "```bash\n",
    "$ python setup.py build_ext --inplace\n",
    "```\n",
    "\n",
    "and run it:\n",
    "\n",
    "```bash\n",
    "$ python -c \"from ghostbuffer import core; core.print_int32(10)\"\n",
    "0: 0\n",
    "1: 1\n",
    "2: 2\n",
    "3: 3\n",
    "4: 4\n",
    "5: 5\n",
    "6: 6\n",
    "7: 7\n",
    "8: 8\n",
    "9: 9\n",
    "```\n",
    "\n",
    "See the data are correctly shared between Python and C.  Note the only thing copied between the language barrier is the meta-data `gstbuf_t`."
   ]
  },
  {
   "cell_type": "markdown",
   "metadata": {
    "slideshow": {
     "slide_type": "subslide"
    }
   },
   "source": [
    "You can play more with it by changing `ghostbuffer.core.print_int32()` to:\n",
    "\n",
    "```python\n",
    "def print_int32(num):\n",
    "    grr = gstbuf.GhostArray(num, creation=\"arange\", dtype=\"int32\")\n",
    "    from numpy import random\n",
    "    random.shuffle(grr.nda)\n",
    "    grr.print_int32()\n",
    "```\n",
    "\n",
    "The results:\n",
    "\n",
    "```bash\n",
    "$ python -c \"from ghostbuffer import core; core.print_int32(10)\"\n",
    "0: 7\n",
    "1: 8\n",
    "2: 1\n",
    "3: 4\n",
    "4: 0\n",
    "5: 2\n",
    "6: 9\n",
    "7: 6\n",
    "8: 5\n",
    "9: 3\n",
    "```"
   ]
  },
  {
   "cell_type": "markdown",
   "metadata": {
    "slideshow": {
     "slide_type": "slide"
    }
   },
   "source": [
    "# Step 2: Go multiple dimension"
   ]
  },
  {
   "cell_type": "markdown",
   "metadata": {},
   "source": [
    "Create another package in the directory `02_multiple_dimension/`.  Some files can be reused from `01_c_struct`:\n",
    "\n",
    "1. `setup.py`: The script driving `distutils`.\n",
    "2. `ghostbuffer/__init__.py`: Empty file that makes `ghostbuffer` a Python package.\n",
    "\n",
    "Other files need change:\n",
    "\n",
    "1. `ghostbuffer/gstbuf.pyx`: The Cython module for class `GhostArray`.\n",
    "2. `ghostbuffer/helper.c`: Where our C code goes.\n",
    "3. `ghostbuffer/core.py`: Python test code.\n",
    "\n",
    "If something goes wrong when your edit, check the already-written code in the directory `ref_02_multiple_dimension/`."
   ]
  },
  {
   "cell_type": "markdown",
   "metadata": {
    "slideshow": {
     "slide_type": "subslide"
    }
   },
   "source": [
    "## `ghostbuffer/gstbuf.pyx`\n",
    "\n",
    "To make our array support multiple dimension, we need to remember the shape.  Add two fields in the `gstbuf_t`:\n",
    "\n",
    "```python\n",
    "cdef public:\n",
    "    ctypedef struct gstbuf_t:\n",
    "        char *elem\n",
    "        np.npy_intp *shape # A small array holding the shape.\n",
    "        np.npy_intp nelem\n",
    "        int ndim # The number of dimensions. Also the length of shape array.\n",
    "        int elemsize\n",
    "```\n",
    "\n",
    "In `GhostArray.__cinit__()`, allocate the new field:\n",
    "\n",
    "```python\n",
    "    def __cinit__(self, *args, **kw):\n",
    "        self._data = <gstbuf_t*>malloc(sizeof(gstbuf_t))\n",
    "        self._data.elem = <char*>(NULL)\n",
    "        self._data.shape = <np.npy_intp*>(NULL) # Give it NULL.\n",
    "        self._data.ndim = 0 # Set it to zero.\n",
    "        self._data.elemsize = 0\n",
    "```\n",
    "\n",
    "In `GhostArray.__dealloc__()`, free the memory:\n",
    "\n",
    "```python\n",
    "    def __dealloc__(self):\n",
    "        if NULL != self._data:\n",
    "            if NULL != self._data.shape: # Free the new field.\n",
    "                free(self._data.shape)\n",
    "            free(self._data)\n",
    "```"
   ]
  },
  {
   "cell_type": "markdown",
   "metadata": {
    "slideshow": {
     "slide_type": "subslide"
    }
   },
   "source": [
    "In `GhostArray.__init__()`, add new code to initialize the fields:\n",
    "\n",
    "```python\n",
    "    def __init__(self, *args, **kw):\n",
    "        # ... omit old code for brevity ...\n",
    "        # Initialize internal data.\n",
    "        ## elem.\n",
    "        cdef np.ndarray cnda = self.nda\n",
    "        self._data.elem = <char*>cnda.data\n",
    "        ## NEW: shape (just a duplication of PyArrayObject.dimensions).\n",
    "        if NULL != self._data.shape:\n",
    "            free(self._data.shape)\n",
    "        self._data.shape = <np.npy_intp*>malloc(sizeof(np.npy_intp)*ndim)\n",
    "        for it in range(ndim):\n",
    "            self._data.shape[it] = self.nda.shape[it]\n",
    "        ## nelem.\n",
    "        self._data.nelem = self.nda.size\n",
    "        ## NEW: ndim (just a duplication of PyArrayObject.nd).\n",
    "        self._data.ndim = ndim\n",
    "        ## elemsize (just a duplication of PyArray_Descr.elsize).\n",
    "        self._data.elemsize = self.nda.itemsize\n",
    "```"
   ]
  },
  {
   "cell_type": "markdown",
   "metadata": {
    "slideshow": {
     "slide_type": "subslide"
    }
   },
   "source": [
    "Tell Cython we have a new C helper function:\n",
    "\n",
    "```python\n",
    "cdef extern:\n",
    "    void gstbuf_print_int32(gstbuf_t gbuf)\n",
    "    void gstbuf_print_int32_md(gstbuf_t gbuf) # New helper.\n",
    "```\n",
    "\n",
    "Add related function and properties to `GhostArray`:\n",
    "\n",
    "```python\n",
    "    @property\n",
    "    def nelem(self):\n",
    "        return self._data.nelem\n",
    "\n",
    "    @property\n",
    "    def ndim(self):\n",
    "        return self._data.ndim\n",
    "\n",
    "    def print_int32_md(self):\n",
    "        assert \"int32\" == self.nda.dtype\n",
    "        gstbuf_print_int32_md((self._data)[0])\n",
    "```"
   ]
  },
  {
   "cell_type": "markdown",
   "metadata": {
    "slideshow": {
     "slide_type": "subslide"
    }
   },
   "source": [
    "## `ghostbuffer/helper.c`\n",
    "\n",
    "In `ghostbuffer/helper.c`, add our C helper:\n",
    "\n",
    "```c\n",
    "void gstbuf_print_int32_md(gstbuf_t gbuf) {\n",
    "    if (4 != gbuf.elemsize) {\n",
    "        return;\n",
    "    }\n",
    "    npy_intp its[gbuf.ndim];\n",
    "    for (int it=0; it<gbuf.ndim; ++it) {\n",
    "        its[it] = 0;\n",
    "    }\n",
    "    int *elem = (int *)gbuf.elem;\n",
    "    for (npy_intp jt=0; jt<gbuf.nelem; jt++) {\n",
    "        for (int it=0; it<gbuf.ndim; ++it) {\n",
    "            printf(\"%lu \", its[it]);\n",
    "        }\n",
    "        printf(\": %d\\n\", elem[jt]);\n",
    "        ++its[gbuf.ndim-1];\n",
    "        for (int it=gbuf.ndim-1; it>=0; --it) {\n",
    "            if (its[it] == gbuf.shape[it]) {\n",
    "                its[it] = 0;\n",
    "                if (it != 0) { // Carry.\n",
    "                    ++its[it-1];\n",
    "                }\n",
    "            }\n",
    "        }\n",
    "    }\n",
    "}\n",
    "```"
   ]
  },
  {
   "cell_type": "markdown",
   "metadata": {
    "slideshow": {
     "slide_type": "subslide"
    }
   },
   "source": [
    "## `ghostbuffer/core.py`\n",
    "\n",
    "Add the new test code added to `ghostbuffer/core.py`:\n",
    "\n",
    "```python\n",
    "def print_int32_md(shape):\n",
    "    grr = gstbuf.GhostArray(shape, creation=\"empty\", dtype=\"int32\")\n",
    "    # Note we place an index trick.\n",
    "    grr.nda[...] = np.arange(grr.nda.size, dtype=\"int32\")[::-1].reshape(shape)\n",
    "    grr.print_int32_md()\n",
    "    print(grr.nda)\n",
    "```\n",
    "\n",
    "Compile and run it:\n",
    "\n",
    "```\n",
    "$ python setup.py build_ext --inplace\n",
    "$ python -c \"from ghostbuffer import core; core.print_int32_md((3,2))\"\n",
    "0 0 : 5\n",
    "0 1 : 4\n",
    "1 0 : 3\n",
    "1 1 : 2\n",
    "2 0 : 1\n",
    "2 1 : 0\n",
    "[[5 4]\n",
    " [3 2]\n",
    " [1 0]]\n",
    "```"
   ]
  },
  {
   "cell_type": "markdown",
   "metadata": {
    "slideshow": {
     "slide_type": "subslide"
    }
   },
   "source": [
    "Play with it more: set to a \"normal\", incremental array:\n",
    "\n",
    "```python\n",
    "def print_int32_md(shape):\n",
    "    grr = gstbuf.GhostArray(shape, creation=\"empty\", dtype=\"int32\")\n",
    "    # Note we place an index trick.\n",
    "    grr.nda[...] = np.arange(grr.nda.size, dtype=\"int32\").reshape(shape)\n",
    "    grr.print_int32_md()\n",
    "    print(grr.nda)\n",
    "```\n",
    "\n",
    "See the results:\n",
    "\n",
    "```\n",
    "$ python -c \"from ghostbuffer import core; core.print_int32_md((3,2))\"\n",
    "0 0 : 0\n",
    "0 1 : 1\n",
    "1 0 : 2\n",
    "1 1 : 3\n",
    "2 0 : 4\n",
    "2 1 : 5\n",
    "[[0 1]\n",
    " [2 3]\n",
    " [4 5]]\n",
    "```"
   ]
  },
  {
   "cell_type": "markdown",
   "metadata": {
    "slideshow": {
     "slide_type": "slide"
    }
   },
   "source": [
    "# Step 3: Ghost index"
   ]
  },
  {
   "cell_type": "markdown",
   "metadata": {},
   "source": [
    "Create another package in the directory `03_ghost_index/`.  Some files can be reused from `02_multiple_dimension/`:\n",
    "\n",
    "1. `setup.py`: The script driving `distutils`.\n",
    "2. `ghostbuffer/__init__.py`: Empty file that makes `ghostbuffer` a Python package.\n",
    "\n",
    "Other files need change:\n",
    "\n",
    "1. `ghostbuffer/gstbuf.pyx`: The Cython module for class `GhostArray`.\n",
    "2. `ghostbuffer/helper.c`: Where our C code goes.\n",
    "3. `ghostbuffer/core.py`: Python test code.\n",
    "\n",
    "If something goes wrong when your edit, check the already-written code in the directory `ref_03_ghost_index/`."
   ]
  },
  {
   "cell_type": "markdown",
   "metadata": {
    "slideshow": {
     "slide_type": "subslide"
    }
   },
   "source": [
    "## What is \"ghost index\"\n",
    "\n",
    "In fortran, it's convenient to declare arrays with negative indices:\n",
    "\n",
    "```fortran\n",
    "INTEGER IARR(-3:8, 0:5) ! Rank-two array.\n",
    "```\n",
    "\n",
    "In C pointers work just like that.  The following code means getting 8 bytes _before_ the array head `elem`:\n",
    "\n",
    "```c\n",
    "double *elem;\n",
    "double val = elem[-1];\n",
    "```\n",
    "\n",
    "The negative index saves a lot of conditional branches when coding array-based numerical methods.  Because this trick works as a \"ghost cell\" treatment of unstructured meshes, let's call the negative index \"ghost index\".\n",
    "\n",
    "Note, negative index in Python (and NumPy) works differently: counting from the end of the container."
   ]
  },
  {
   "cell_type": "markdown",
   "metadata": {
    "slideshow": {
     "slide_type": "subslide"
    }
   },
   "source": [
    "## `ghostbuffer/gstbuf.pyx`\n",
    "\n",
    "We need an additional field in `gstbuf_t` to track the ghost indices:\n",
    "\n",
    "```python\n",
    "cdef public:\n",
    "    ctypedef struct gstbuf_t:\n",
    "        char *elem\n",
    "        np.npy_intp *shape\n",
    "        np.npy_intp *drange # Dimension range: each dimension has a (nghost,nbody) pair.\n",
    "        np.npy_intp nelem\n",
    "        int ndim\n",
    "        int elemsize\n",
    "```\n",
    "\n",
    "In `GhostArray.__cinit__()`, allocate the new field:\n",
    "\n",
    "```python\n",
    "    def __cinit__(self, *args, **kw):\n",
    "        self._data = <gstbuf_t*>malloc(sizeof(gstbuf_t))\n",
    "        self._data.elem = <char*>(NULL)\n",
    "        self._data.shape = <np.npy_intp*>(NULL)\n",
    "        self._data.drange = <np.npy_intp*>(NULL) # Give it NULL.\n",
    "        self._data.ndim = 0\n",
    "        self._data.elemsize = 0\n",
    "```\n",
    "\n",
    "In `GhostArray.__dealloc__()`, free the memory:\n",
    "\n",
    "```python\n",
    "    def __dealloc__(self):\n",
    "        if NULL != self._data:\n",
    "            if NULL != self._data.shape:\n",
    "                free(self._data.shape)\n",
    "            if NULL != self._data.drange: # Free the new field.\n",
    "                free(self._data.drange)\n",
    "            free(self._data)\n",
    "```"
   ]
  },
  {
   "cell_type": "markdown",
   "metadata": {
    "slideshow": {
     "slide_type": "subslide"
    }
   },
   "source": [
    "In `GhostArray.__init__()`, add new code to initialize the fields:\n",
    "\n",
    "```python\n",
    "    def __init__(self, *args, **kw):\n",
    "        # Pop all custom keyword arguments.\n",
    "        gshape = kw.pop(\"gshape\", None) # NEW: We need to track the ghost shape.\n",
    "        creator_name = kw.pop(\"creation\", \"empty\")\n",
    "        # ... omit old code for brevity ...\n",
    "        # Initialize internal data.\n",
    "        drange = self._calc_drange(self.nda.shape, gshape) # NEW: Calculate data range.\n",
    "        ## elem.\n",
    "        cdef np.ndarray cnda = self.nda\n",
    "        # NEW: Calculate the offset of the C array head elem.\n",
    "        cdef char *ndhead = <char*>cnda.data\n",
    "        offset = self._calc_offset(drange) # Call a NEW helper method.\n",
    "        ndhead += self.nda.itemsize * offset # Offset the element pointer.\n",
    "        self._data.elem = ndhead\n",
    "        ## shape (just a duplication of PyArrayObject.dimensions).\n",
    "        if NULL != self._data.shape:\n",
    "            free(self._data.shape)\n",
    "        self._data.shape = <np.npy_intp*>malloc(sizeof(np.npy_intp)*ndim)\n",
    "        for it in range(ndim):\n",
    "            self._data.shape[it] = self.nda.shape[it]\n",
    "        ## NEW: drange.\n",
    "        if NULL != self._data.drange:\n",
    "            free(self._data.drange)\n",
    "        self._data.drange = <np.npy_intp*>malloc(sizeof(np.npy_intp)*ndim*2)\n",
    "        for it, (nghost, nbody) in enumerate(drange):\n",
    "            self._data.drange[it*2  ] = nghost\n",
    "            self._data.drange[it*2+1] = nbody\n",
    "        ## nelem.\n",
    "        self._data.nelem = self.nda.size\n",
    "        ## ndim (just a duplication of PyArrayObject.nd).\n",
    "        self._data.ndim = ndim\n",
    "        ## elemsize (just a duplication of PyArray_Descr.elsize).\n",
    "        self._data.elemsize = self.nda.itemsize\n",
    "```"
   ]
  },
  {
   "cell_type": "markdown",
   "metadata": {
    "slideshow": {
     "slide_type": "subslide"
    }
   },
   "source": [
    "`GhostArray.__init__()` used two new helper methods:\n",
    "\n",
    "```python\n",
    "    @staticmethod\n",
    "    def _calc_drange(shape, gshape):\n",
    "        ndim = len(shape)\n",
    "        # Make sure gshape is a list.\n",
    "        if isinstance(gshape, int):\n",
    "            gshape = [gshape]\n",
    "        elif None is gshape:\n",
    "            gshape = [0] * ndim\n",
    "        gshape = list(gshape)\n",
    "        # Get gshape correct length.\n",
    "        if len(gshape) < ndim:\n",
    "            gshape += [0] * (ndim - len(gshape))\n",
    "        elif len(gshape) > ndim:\n",
    "            gshape = gshape[:ndim]\n",
    "        # Make sure gshape is all positive.\n",
    "        gshape = [max(0, ng) for ng in gshape]\n",
    "        # Make sure elements in gshape doesn't exceed those in shape.\n",
    "        gshape = [min(ng, na) for (ng, na) in zip(gshape, shape)]\n",
    "        # Build drange.\n",
    "        drange = [(ng, na-ng) for ng, na in zip(gshape, shape)]\n",
    "        # Return.\n",
    "        return drange\n",
    "    @staticmethod\n",
    "    def _calc_offset(drange):\n",
    "        shape = [ng+nb for (ng, nb) in drange]\n",
    "        ndim = len(drange)\n",
    "        offset = 0\n",
    "        for it, (nghost, nbody) in enumerate(drange):\n",
    "            if ndim-1 == it:\n",
    "                trail = 1\n",
    "            else:\n",
    "                trail = np.multiply.reduce(shape[it+1:])\n",
    "            offset += nghost * trail\n",
    "        return offset\n",
    "```"
   ]
  },
  {
   "cell_type": "markdown",
   "metadata": {
    "slideshow": {
     "slide_type": "subslide"
    }
   },
   "source": [
    "Associated with the ghost index, we add a bunch of helper properties of `GhostArray` class:\n",
    "\n",
    "```python\n",
    "    @property\n",
    "    def drange(self):\n",
    "        return tuple((self._data.drange[it*2], self._data.drange[it*2+1])\n",
    "            for it in range(self._data.ndim))\n",
    "\n",
    "    @property\n",
    "    def gshape(self):\n",
    "        return tuple(self._data.drange[it*2] for it in range(self._data.ndim))\n",
    "\n",
    "    @property\n",
    "    def bshape(self):\n",
    "        return tuple(self._data.drange[it*2+1] for it in range(self._data.ndim))\n",
    "\n",
    "    @property\n",
    "    def offset(self):\n",
    "        return self._calc_offset(self.drange)\n",
    "\n",
    "    @property\n",
    "    def _ghostaddr(self):\n",
    "        cdef np.ndarray cnda = self.nda\n",
    "        return <unsigned long>(cnda.data)\n",
    "\n",
    "    @property\n",
    "    def _bodyaddr(self):\n",
    "        return <unsigned long>(self._data.elem)\n",
    "```"
   ]
  },
  {
   "cell_type": "markdown",
   "metadata": {
    "slideshow": {
     "slide_type": "subslide"
    }
   },
   "source": [
    "Because `gstbuf_t.elem` can now point to anywhere in the middle of the allocated memory, our previous example make break down.  Add an assertion to detect non-applicable scenarios:\n",
    "\n",
    "```python\n",
    "    def print_int32(self):\n",
    "        # Our previous example worked only for non-ghost arrays.\n",
    "        assert self._ghostaddr == self._bodyaddr\n",
    "        assert \"int32\" == self.nda.dtype\n",
    "        gstbuf_print_int32((self._data)[0])\n",
    "\n",
    "    def print_int32_md(self):\n",
    "        # Our previous example worked only for non-ghost arrays.\n",
    "        assert self._ghostaddr == self._bodyaddr\n",
    "        assert \"int32\" == self.nda.dtype\n",
    "        gstbuf_print_int32_md((self._data)[0])\n",
    "```"
   ]
  },
  {
   "cell_type": "markdown",
   "metadata": {
    "slideshow": {
     "slide_type": "subslide"
    }
   },
   "source": [
    "A `GhostArray` is \"separable\" if only its first dimension has ghost index:\n",
    "\n",
    "```python\n",
    "    @property\n",
    "    def is_separable(self):\n",
    "        cdef int ndim = self._data.ndim\n",
    "        if ndim == 1:\n",
    "            return True\n",
    "        cdef int it = 1\n",
    "        while it < ndim:\n",
    "            if self._data.drange[it*2] != 0:\n",
    "                return False\n",
    "            it += 1\n",
    "        return True\n",
    "\n",
    "    @property\n",
    "    def ghostpart(self):\n",
    "        if not self.is_separable:\n",
    "            raise ValueError(\"malformed ghost shape\")\n",
    "        return self.nda[self.gshape[0]-1::-1,...]\n",
    "\n",
    "    @property\n",
    "    def bodypart(self):\n",
    "        if not self.is_separable:\n",
    "            raise ValueError(\"malformed ghost shape\")\n",
    "        return self.nda[self.gshape[0]:,...]\n",
    "```"
   ]
  },
  {
   "cell_type": "markdown",
   "metadata": {
    "slideshow": {
     "slide_type": "subslide"
    }
   },
   "source": [
    "The last thing we add to `GhostArray` is the API to a demonstrative C helper function:\n",
    "\n",
    "```python\n",
    "    def ranged_fill(self):\n",
    "        assert self.is_separable\n",
    "        assert \"int32\" == self.nda.dtype\n",
    "        gstbuf_ranged_fill((self._data)[0])\n",
    "```\n",
    "\n",
    "Make Cython recognize the C function:\n",
    "\n",
    "```python\n",
    "cdef extern:\n",
    "    void gstbuf_print_int32(gstbuf_t gbuf)\n",
    "    void gstbuf_print_int32_md(gstbuf_t gbuf)\n",
    "    void gstbuf_ranged_fill(gstbuf_t gbuf) # NEW guy.\n",
    "```"
   ]
  },
  {
   "cell_type": "markdown",
   "metadata": {
    "slideshow": {
     "slide_type": "subslide"
    }
   },
   "source": [
    "## `ghostbuffer/helper.c`\n",
    "\n",
    "To proceed, add the C helper function to `ghostbuffer/helper.c`:\n",
    "\n",
    "```c\n",
    "void gstbuf_ranged_fill(gstbuf_t gbuf) {\n",
    "    size_t nelem;\n",
    "    int *elem = (int *)gbuf.elem;\n",
    "    if (4 != gbuf.elemsize)\n",
    "        return; // Do nothing.\n",
    "    // Ghost part.\n",
    "    nelem = gbuf.drange[0];\n",
    "    for (int it=1; it<gbuf.ndim; it++)\n",
    "        nelem *= gbuf.drange[it*2] + gbuf.drange[it*2+1];\n",
    "    for (long it=-1; it>=-nelem; it--)\n",
    "        elem[it] = it;\n",
    "    // Body part.\n",
    "    nelem = gbuf.drange[1];\n",
    "    for (int it=1; it<gbuf.ndim; it++)\n",
    "        nelem *= gbuf.drange[it*2] + gbuf.drange[it*2+1];\n",
    "    for (long it=0; it<nelem; it++)\n",
    "        elem[it] = it;\n",
    "}\n",
    "```"
   ]
  },
  {
   "cell_type": "markdown",
   "metadata": {
    "slideshow": {
     "slide_type": "subslide"
    }
   },
   "source": [
    "## `ghostbuffer/core.py`\n",
    "\n",
    "Finally, add the test code to `ghostbuffer/core.py`:\n",
    "\n",
    "```python\n",
    "def print_parts(shape, gshape):\n",
    "    grr = gstbuf.GhostArray(shape, gshape=gshape, dtype=\"int32\")\n",
    "    grr.ranged_fill()\n",
    "    print(\"Do I hold a correct pointer?\",\n",
    "        \"Yes\" if grr._bodyaddr == grr._ghostaddr + grr.itemsize * grr.offset\n",
    "        else \"No\")\n",
    "    print(\"The whole array:\\n\", grr.nda)\n",
    "    print(\"The ghost part (first dimension reversed):\\n\", grr.ghostpart)\n",
    "    print(\"The body part:\\n\", grr.bodypart)\n",
    "```\n",
    "\n",
    "Build and run it to see the results:\n",
    "\n",
    "```\n",
    "$ python setup.py build_ext --inplace\n",
    "$ python -c \"from ghostbuffer import core; core.print_parts(shape=(3,2), gshape=2)\"\n",
    "Do I hold a correct pointer? Yes\n",
    "The whole array:\n",
    " [[-4 -3]\n",
    " [-2 -1]\n",
    " [ 0  1]]\n",
    "The ghost part (first dimension reversed):\n",
    " [[-2 -1]\n",
    " [-4 -3]]\n",
    "The body part:\n",
    " [[0 1]]\n",
    "```"
   ]
  },
  {
   "cell_type": "markdown",
   "metadata": {
    "slideshow": {
     "slide_type": "slide"
    }
   },
   "source": [
    "# The interesting things\n",
    "\n",
    "1. Tweaking multi-dimensional array in C is painful.  Adding \"ghost\" make it worse.\n",
    "2. In real world you want to shared data structures more complex than that.  Yay.\n",
    "3. The point is, when you need to go through the pain, you can offset something to Cython rather than do everything in C.\n",
    "4. Keep [Boost.Python](http://www.boost.org/doc/libs/1_58_0/libs/python/doc/) in mind.\n",
    "5. NumPy striding is so convenient.  Recall:\n",
    "\n",
    "    ```python\n",
    "        @property\n",
    "        def ghostpart(self):\n",
    "            if not self.is_separable:\n",
    "                raise ValueError(\"malformed ghost shape\")\n",
    "            return self.nda[self.gshape[0]-1::-1,...]\n",
    "    ```"
   ]
  }
 ],
 "metadata": {
  "celltoolbar": "Slideshow",
  "kernelspec": {
   "display_name": "Python 3",
   "language": "python",
   "name": "python3"
  },
  "language_info": {
   "codemirror_mode": {
    "name": "ipython",
    "version": 3
   },
   "file_extension": ".py",
   "mimetype": "text/x-python",
   "name": "python",
   "nbconvert_exporter": "python",
   "pygments_lexer": "ipython3",
   "version": "3.4.3"
  }
 },
 "nbformat": 4,
 "nbformat_minor": 0
}
